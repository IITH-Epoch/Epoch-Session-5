{
  "nbformat": 4,
  "nbformat_minor": 0,
  "metadata": {
    "colab": {
      "provenance": []
    },
    "kernelspec": {
      "name": "python3",
      "display_name": "Python 3"
    },
    "language_info": {
      "name": "python"
    }
  },
  "cells": [
    {
      "cell_type": "markdown",
      "source": [
        "## Classification of stars in HR diagram \n",
        "\n",
        "---\n",
        "\n"
      ],
      "metadata": {
        "id": "arrSFD8iUz4A"
      }
    },
    {
      "cell_type": "markdown",
      "source": [
        "Hertzsprung–Russell diagram is a scatter plot of stars based on how bright they are (luminosity/absolute magnitude) and how hot they are (temperature/spectral type). Different types of stars occupy different parts of the H-R diagram. This exercise uses this star data to predict star types. "
      ],
      "metadata": {
        "id": "aesOj13ZIj2u"
      }
    },
    {
      "cell_type": "markdown",
      "source": [
        "<img src=\"https://chandra.harvard.edu/graphics/edu/formal/variable_stars/diagram.jpg\" alt=\"alt text\" title=\"image Title\" width=\"350\"/>\n"
      ],
      "metadata": {
        "id": "N2bOxc36llZi"
      }
    },
    {
      "cell_type": "code",
      "execution_count": null,
      "metadata": {
        "id": "ptxd809hYMyr"
      },
      "outputs": [],
      "source": [
        "import numpy as np\n",
        "import pandas as pd\n",
        "import matplotlib.pyplot as plt\n",
        "from sklearn.preprocessing import normalize\n",
        "from sklearn.model_selection import train_test_split\n",
        "from sklearn import tree\n",
        "from sklearn.ensemble import RandomForestClassifier\n",
        "import sklearn.linear_model\n",
        "import seaborn as sb\n",
        "from scipy import stats"
      ]
    },
    {
      "cell_type": "markdown",
      "source": [
        "### Read data from csv. Add labels for star types.\n",
        "\n"
      ],
      "metadata": {
        "id": "iGpWJDBhVnXo"
      }
    },
    {
      "cell_type": "code",
      "source": [
        "# first upload this file to colab\n",
        "df = pd.read_csv('./stardata.csv')\n",
        "df.info() \n",
        "print(\"\\nSample readings:\\n\")\n",
        "print(df)\n",
        "star_type_names = ['Brown Dwarf', 'Red Dwarf', 'White Dwarf', 'Main Sequence', 'Supergiant', 'Hypergiant']\n",
        "# Star Type = 0 is Brown Dwarf , Star Type = 1 is Red Dwarf etc"
      ],
      "metadata": {
        "id": "MpBP9goNYOnM",
        "colab": {
          "base_uri": "https://localhost:8080/"
        },
        "outputId": "3af1a7c9-494d-4365-fd21-21989ec32e5e"
      },
      "execution_count": null,
      "outputs": [
        {
          "output_type": "stream",
          "name": "stdout",
          "text": [
            "<class 'pandas.core.frame.DataFrame'>\n",
            "RangeIndex: 240 entries, 0 to 239\n",
            "Data columns (total 7 columns):\n",
            " #   Column                  Non-Null Count  Dtype  \n",
            "---  ------                  --------------  -----  \n",
            " 0   Temperature (K)         240 non-null    int64  \n",
            " 1   Luminosity(L/Lo)        240 non-null    float64\n",
            " 2   Radius(R/Ro)            240 non-null    float64\n",
            " 3   Absolute magnitude(Mv)  240 non-null    float64\n",
            " 4   Star type               240 non-null    int64  \n",
            " 5   Star color              240 non-null    object \n",
            " 6   Spectral Class          240 non-null    object \n",
            "dtypes: float64(3), int64(2), object(2)\n",
            "memory usage: 13.2+ KB\n",
            "\n",
            "Sample readings:\n",
            "\n",
            "     Temperature (K)  Luminosity(L/Lo)  Radius(R/Ro)  Absolute magnitude(Mv)  \\\n",
            "0               3068          0.002400        0.1700                   16.12   \n",
            "1               3042          0.000500        0.1542                   16.60   \n",
            "2               2600          0.000300        0.1020                   18.70   \n",
            "3               2800          0.000200        0.1600                   16.65   \n",
            "4               1939          0.000138        0.1030                   20.06   \n",
            "..               ...               ...           ...                     ...   \n",
            "235            38940     374830.000000     1356.0000                   -9.93   \n",
            "236            30839     834042.000000     1194.0000                  -10.63   \n",
            "237             8829     537493.000000     1423.0000                  -10.73   \n",
            "238             9235     404940.000000     1112.0000                  -11.23   \n",
            "239            37882     294903.000000     1783.0000                   -7.80   \n",
            "\n",
            "     Star type Star color Spectral Class  \n",
            "0            0        Red              M  \n",
            "1            0        Red              M  \n",
            "2            0        Red              M  \n",
            "3            0        Red              M  \n",
            "4            0        Red              M  \n",
            "..         ...        ...            ...  \n",
            "235          5       Blue              O  \n",
            "236          5       Blue              O  \n",
            "237          5      White              A  \n",
            "238          5      White              A  \n",
            "239          5       Blue              O  \n",
            "\n",
            "[240 rows x 7 columns]\n"
          ]
        }
      ]
    },
    {
      "cell_type": "markdown",
      "source": [
        "### Check names for Star color and Spectral Class. Fix inconsistent naming."
      ],
      "metadata": {
        "id": "SpopR3WyVSms"
      }
    },
    {
      "cell_type": "code",
      "source": [
        "print(np.unique(df['Star color']))\n",
        "print(np.unique(df['Spectral Class']))\n",
        "# there is naming inconsistency in star color such as \"Blue white\" and \"Blue-White\""
      ],
      "metadata": {
        "id": "VZBkp4_kUn3w",
        "colab": {
          "base_uri": "https://localhost:8080/"
        },
        "outputId": "591825b6-bae9-49fb-af39-282289dc8d56"
      },
      "execution_count": null,
      "outputs": [
        {
          "output_type": "stream",
          "name": "stdout",
          "text": [
            "['Blue' 'Blue ' 'Blue White' 'Blue white' 'Blue white ' 'Blue-White'\n",
            " 'Blue-white' 'Orange' 'Orange-Red' 'Pale yellow orange' 'Red' 'White'\n",
            " 'White-Yellow' 'Whitish' 'Yellowish' 'Yellowish White' 'white'\n",
            " 'yellow-white' 'yellowish']\n",
            "['A' 'B' 'F' 'G' 'K' 'M' 'O']\n"
          ]
        }
      ]
    },
    {
      "cell_type": "code",
      "source": [
        "df = df.replace({'Star color': ['Blue ', 'Blue white','Blue white ', 'Blue-White', 'Blue-white', 'Orange-Red', 'Pale yellow orange', 'White-Yellow', 'Yellowish White','yellow-white','white','yellowish' ]},\n",
        "            {'Star color': ['Blue', 'Blue White', 'Blue White', 'Blue White', 'Blue White', 'Orange Red', 'Pale Yellow Orange', 'White Yellow', 'White Yellow', 'White Yellow', 'White','Yellowish']})"
      ],
      "metadata": {
        "id": "j_GNTFEuUoNY"
      },
      "execution_count": null,
      "outputs": []
    },
    {
      "cell_type": "markdown",
      "source": [
        "### Plotting data\n",
        "\n"
      ],
      "metadata": {
        "id": "hvgVk4Sbqqod"
      }
    },
    {
      "cell_type": "code",
      "source": [
        "#color for plot points based on oberved star color\n",
        "color_dict = {\n",
        "    'Red': 'tomato',\n",
        "    'Blue': 'cornflowerblue',\n",
        "    'Blue White': 'lightskyblue',\n",
        "    'Orange Red': 'orangered',\n",
        "    'Pale Yellow Orange': 'papayawhip',\n",
        "    'White Yellow': 'lightyellow',\n",
        "    'Whitish': 'aliceblue',\n",
        "    'White': 'white',\n",
        "    'Yellowish': 'gold',\n",
        "    'Orange': 'orange'\n",
        "}\n",
        "color_values = df['Star color'].tolist()  # list of observed star colors\n",
        "color_scheme1 = [color_dict[x] for x in color_values] # list of colors of plotted points\n",
        "\n",
        "#to color according to star type:\n",
        "star_type_colors = ['brown', 'red', 'white', 'gold', 'cyan', 'blue']\n",
        "star_type_values = df['Star type'].tolist() # list of star type\n",
        "color_scheme2 = [star_type_colors[x] for x in star_type_values] # list of colors for plotted points (based on star type)\n",
        "\n"
      ],
      "metadata": {
        "id": "0RZSubo9_Ci_"
      },
      "execution_count": null,
      "outputs": []
    },
    {
      "cell_type": "code",
      "source": [
        "# generates a log-log plot of luminosity vs temperature\n",
        "def plot_data(color_scheme):\n",
        "  # read star data and plot points for luminosity vs temperature graph \n",
        "  px = df['Temperature (K)'].to_numpy()\n",
        "  py = df['Luminosity(L/Lo)'].to_numpy()\n",
        "  plt.xscale(\"log\")\n",
        "  plt.yscale(\"log\")\n",
        "  plt.scatter(px, py, c=color_scheme, marker='o') \n",
        "  # set labels, background color, ticks. Invert x axis to match the HR diagram\n",
        "  plt.xlabel(\"Temperature (K)\")\n",
        "  plt.ylabel(\"Luminosity(L/Lo)\")\n",
        "  plt.gca().invert_xaxis()\n",
        "  plt.style.use(\"dark_background\")\n",
        "  plt.xticks([1e3, 1e4, 1e5])\n",
        "  plt.show()\n",
        "  \n",
        "plot_data(color_scheme1)\n",
        "print(\"Chart of luminosity, temperature and observed color\\n\")\n",
        "plot_data(color_scheme2)\n",
        "print(\"Chart of luminosity, temperature colored by star type\")\n",
        "for (n,c) in zip(star_type_names, star_type_colors):\n",
        "  print(n, \":\", c)  # prints the color code for star type\n"
      ],
      "metadata": {
        "id": "uS3EDhPWqzXE",
        "colab": {
          "base_uri": "https://localhost:8080/",
          "height": 705
        },
        "outputId": "eed82c2a-f7dc-4f06-805b-640ea0577892"
      },
      "execution_count": null,
      "outputs": [
        {
          "output_type": "display_data",
          "data": {
            "text/plain": [
              "<Figure size 432x288 with 1 Axes>"
            ],
            "image/png": "[encoded data removed]"
          },
          "metadata": {}
        },
        {
          "output_type": "stream",
          "name": "stdout",
          "text": [
            "Chart of luminosity, temperature and observed color\n",
            "\n"
          ]
        },
        {
          "output_type": "display_data",
          "data": {
            "text/plain": [
              "<Figure size 432x288 with 1 Axes>"
            ],
            "image/png": "[encoded data removed]"
          },
          "metadata": {}
        },
        {
          "output_type": "stream",
          "name": "stdout",
          "text": [
            "Chart of luminosity, temperature colored by star type\n",
            "Brown Dwarf : brown\n",
            "Red Dwarf : red\n",
            "White Dwarf : white\n",
            "Main Sequence : gold\n",
            "Supergiant : cyan\n",
            "Hypergiant : blue\n"
          ]
        }
      ]
    },
    {
      "cell_type": "markdown",
      "source": [
        "### Prepare training and test inputs and outputs"
      ],
      "metadata": {
        "id": "gnczInFfdDye"
      }
    },
    {
      "cell_type": "markdown",
      "source": [
        "#### One Hot Encoding\n",
        "Colors should not be encoded as a series of integers 0, 1, 2, 3... the computer may wrongly assume that some colors are greater and more important than others. Instead each color is encoded as a separate feature. It takes value 1 for that color, 0 for other colors.\n",
        "\n",
        "#### Normalization\n",
        "Transform input features to the range 0 to 1.\n",
        "\n",
        "#### Split data into training and test set\n",
        "Given a dataset, we typically assign 80% of the input-output records to form the training set. The rest of the records form the test set. The test set is used as fresh data to judge the performance of the trained model."
      ],
      "metadata": {
        "id": "FkbIIKFk7mI7"
      }
    },
    {
      "cell_type": "code",
      "source": [
        "input = df.copy()\n",
        "input = pd.get_dummies(input, columns=['Star color', 'Spectral Class'], drop_first=True) # one hot encoding for discrete categories\n",
        "\n",
        "output= input.pop('Star type') # separate outputs\n",
        "\n",
        "# OPTIONAL: dropping some input variables to check their effect on accuracy\n",
        "#input = input.drop(columns=['Radius(R/Ro)', 'Luminosity(L/Lo)'])  \n",
        "#input = input.loc[:,~input.columns.str.startswith('Star color')]    # keeps all columns except Star color related\n",
        "#input = input.loc[:,~input.columns.str.startswith('Spectral Class')] # keeps all columns except Spectral Class related\n",
        "\n",
        "#input = normalize(input)\n",
        "\n",
        "# split data into training set (80%) and testing set(20%). \n",
        "xtrain, xtest, ytrain, ytest = train_test_split(input, output, random_state=7, test_size=0.2)"
      ],
      "metadata": {
        "id": "A3P4xmspc_99"
      },
      "execution_count": null,
      "outputs": []
    },
    {
      "cell_type": "markdown",
      "source": [],
      "metadata": {
        "id": "3xQ9cXtyipQT"
      }
    },
    {
      "cell_type": "markdown",
      "source": [
        "### Training Model"
      ],
      "metadata": {
        "id": "6lQgM2U4d_ir"
      }
    },
    {
      "cell_type": "code",
      "source": [
        "# Choose model\n",
        "#clf=tree.DecisionTreeClassifier()\n",
        "#clf=RandomForestClassifier(n_estimators=10, criterion='log_loss')\n",
        "clf= sklearn.linear_model.LogisticRegression(multi_class='ovr', max_iter=1000)      # ovr is  one-vs-rest \n",
        "\n",
        "# train the model by feeding it inputs and target outputs\n",
        "clf.fit(xtrain,ytrain) \n",
        "\n",
        "# print accuracy of predictions \n",
        "print(\"Training set accuracy:\", clf.score(xtrain,ytrain)) \n",
        "print(\"Test set accuracy:\", clf.score(xtest,ytest)) # test accuracy is based on fresh inputs, not used for training"
      ],
      "metadata": {
        "id": "bYrx74akd-8B",
        "colab": {
          "base_uri": "https://localhost:8080/"
        },
        "outputId": "ab92e492-e560-415a-95d3-42e8425e1e31"
      },
      "execution_count": null,
      "outputs": [
        {
          "output_type": "stream",
          "name": "stdout",
          "text": [
            "Training set accuracy: 1.0\n",
            "Test set accuracy: 0.9583333333333334\n"
          ]
        }
      ]
    },
    {
      "cell_type": "markdown",
      "source": [
        "### Prediction Results"
      ],
      "metadata": {
        "id": "vd-JFIJUeXAQ"
      }
    },
    {
      "cell_type": "code",
      "source": [
        "ypredict = clf.predict(xtest) # predictions made on test inputs\n",
        "\n",
        "examples = 10\n",
        "for (actual, predicted, i) in zip(ytest, ypredict, range(examples)):\n",
        "    print(star_type_names[actual] +\" > predicted as > \" + star_type_names[predicted])"
      ],
      "metadata": {
        "id": "KiZUBVj0efks",
        "colab": {
          "base_uri": "https://localhost:8080/"
        },
        "outputId": "33d8f31f-7a91-47a5-ec82-6afc70742ddf"
      },
      "execution_count": null,
      "outputs": [
        {
          "output_type": "stream",
          "name": "stdout",
          "text": [
            "White Dwarf > predicted as > White Dwarf\n",
            "Brown Dwarf > predicted as > Brown Dwarf\n",
            "Brown Dwarf > predicted as > Red Dwarf\n",
            "White Dwarf > predicted as > White Dwarf\n",
            "White Dwarf > predicted as > White Dwarf\n",
            "Red Dwarf > predicted as > Red Dwarf\n",
            "Main Sequence > predicted as > Main Sequence\n",
            "White Dwarf > predicted as > White Dwarf\n",
            "Brown Dwarf > predicted as > Brown Dwarf\n",
            "Hypergiant > predicted as > Hypergiant\n"
          ]
        }
      ]
    },
    {
      "cell_type": "markdown",
      "source": [
        "## Data analysis"
      ],
      "metadata": {
        "id": "43PK7wN_NpiC"
      }
    },
    {
      "cell_type": "markdown",
      "source": [
        "### Statistics"
      ],
      "metadata": {
        "id": "r59OXOi88XLS"
      }
    },
    {
      "cell_type": "code",
      "source": [
        "logT = np.log10(df['Temperature (K)'])\n",
        "avgT = logT.mean()\n",
        "stdT = logT.std()\n",
        "print(\"Mean of log(Temperature):\", avgT )\n",
        "print(\"Standard Deviation of log(Temperature):\", stdT )\n",
        "\n",
        "gmeans = stats.gmean(df.iloc[:,:3])\n",
        "print(\"\\nGeometric means for\")\n",
        "print(\"Temperature(K):\", gmeans[0])\n",
        "print(\"Luminosity(L/Lo):\", gmeans[1])\n",
        "print(\"Radius(R/Ro)\", gmeans[2])"
      ],
      "metadata": {
        "id": "LLukBixv8WzG",
        "colab": {
          "base_uri": "https://localhost:8080/"
        },
        "outputId": "6105b713-96fd-436f-f4b5-0ed3d6cf5a05"
      },
      "execution_count": null,
      "outputs": [
        {
          "output_type": "stream",
          "name": "stdout",
          "text": [
            "Mean of log(Temperature): 3.8569645518648032\n",
            "Standard Deviation of log(Temperature): 0.37223551229162566\n",
            "\n",
            "Geometric means for\n",
            "Temperature(K): 7193.902572855724\n",
            "Luminosity(L/Lo): 5.094597342881513\n",
            "Radius(R/Ro) 2.0239253642704016\n"
          ]
        }
      ]
    },
    {
      "cell_type": "markdown",
      "source": [
        "### Correlation heatmap of continuous inputs "
      ],
      "metadata": {
        "id": "uT3ezuvwc0Os"
      }
    },
    {
      "cell_type": "code",
      "source": [
        "continuous_inputs = df.iloc[:,:3] # choose some continuously varying inputs\n",
        "dataplot = sb.heatmap(continuous_inputs.corr(), cmap=\"Reds\", annot=True)\n",
        "plt.show()"
      ],
      "metadata": {
        "id": "wFmZ57pzUodi",
        "colab": {
          "base_uri": "https://localhost:8080/",
          "height": 269
        },
        "outputId": "1257884b-d12d-4752-bc53-6d771f885033"
      },
      "execution_count": null,
      "outputs": [
        {
          "output_type": "display_data",
          "data": {
            "text/plain": [
              "<Figure size 432x288 with 2 Axes>"
            ],
            "image/png": "[encoded data removed]"
          },
          "metadata": {}
        }
      ]
    },
    {
      "cell_type": "markdown",
      "source": [
        "Luminosity of a black body is proportional to suraface area and 4th power of temperature."
      ],
      "metadata": {
        "id": "KoJ7zVCa8wjq"
      }
    }
  ]
}